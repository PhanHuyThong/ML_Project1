{
 "cells": [
  {
   "cell_type": "code",
   "execution_count": 1,
   "metadata": {},
   "outputs": [],
   "source": [
    "# Useful starting lines\n",
    "%matplotlib inline\n",
    "import numpy as np\n",
    "from numpy import linalg as LA\n",
    "import matplotlib.pyplot as plt\n",
    "from helpers import *\n",
    "%load_ext autoreload\n",
    "%autoreload 2"
   ]
  },
  {
   "cell_type": "code",
   "execution_count": 2,
   "metadata": {},
   "outputs": [],
   "source": [
    "data_path = 'train.csv'\n",
    "y_raw, x_raw, ids = load_csv_data(data_path, True)"
   ]
  },
  {
   "cell_type": "markdown",
   "metadata": {},
   "source": [
    "# Math functions"
   ]
  },
  {
   "cell_type": "code",
   "execution_count": 587,
   "metadata": {},
   "outputs": [],
   "source": [
    "f_mse = lambda y,x,w: 1/(2*len(y))*LA.norm(y-x.dot(w))**2\n",
    "gradf_mse = lambda y,x,w: -1/len(y)*x.T.dot(y-x.dot(w))\n",
    "sigmoid = lambda x: 1./(1.+np.exp(-x))\n",
    "f_logistic = lambda y,x,w: -np.sum(np.log(sigmoid(y*np.dot(x,w))), axis=0)/len(y)\n",
    "gradf_logistic = lambda y,x,w: (-x.T.dot((1. - sigmoid(y*(x.dot(w)))) * y))/len(y)"
   ]
  },
  {
   "cell_type": "markdown",
   "metadata": {},
   "source": [
    "# functions "
   ]
  },
  {
   "cell_type": "code",
   "execution_count": 606,
   "metadata": {},
   "outputs": [],
   "source": [
    "def clean(x):\n",
    "    '''replace -999 by mean of the rest'''\n",
    "    for i in range(len(x[0])):\n",
    "        tmp = x[:,i]\n",
    "        tmp[tmp == -999] = np.mean(tmp[tmp != -999])\n",
    "        x[:,i] = tmp\n",
    "    return x"
   ]
  },
  {
   "cell_type": "code",
   "execution_count": 607,
   "metadata": {},
   "outputs": [],
   "source": [
    "def std(x, mean, stdv):\n",
    "    for i in range(1, len(x[0])):\n",
    "        x[:,i] = (x[:,i] - mean[i])/stdv[i]\n",
    "    return x"
   ]
  },
  {
   "cell_type": "code",
   "execution_count": 608,
   "metadata": {},
   "outputs": [],
   "source": [
    "def addcolumn(x,f):\n",
    "    for i in range(len(f)):\n",
    "        for j in range(d):\n",
    "            x = np.concatenate((x, f[i](x[:,j]).reshape(-1,1)), axis = 1)\n",
    "    x = np.concatenate((np.ones((len(x[:,0]),1)), x), axis = 1)\n",
    "    return x"
   ]
  },
  {
   "cell_type": "code",
   "execution_count": 609,
   "metadata": {},
   "outputs": [],
   "source": [
    "def preprocess(y_in, x_in, mask, f):\n",
    "    '''apply mask --> clean --> std --> for each parameter x[:,i] and each f[j], add 1 column f[j](x[:,i]) \n",
    "    --> add column \"1\" to the left'''\n",
    "    x = clean(x_in[:, mask])\n",
    "    yx = np.concatenate((y_in, x), axis = 1)\n",
    "    np.random.shuffle(yx)\n",
    "    y = yx[:,0]\n",
    "    x = yx[:,1:]\n",
    "    x = addcolumn(x,f)\n",
    "    return y, x"
   ]
  },
  {
   "cell_type": "code",
   "execution_count": 610,
   "metadata": {},
   "outputs": [],
   "source": [
    "def split(y, x):\n",
    "    '''reshape x_in, y_in into K subsets of size (N//K) x d'''\n",
    "    return y.reshape(K, N//K, 1), x.reshape(K, N//K, D)"
   ]
  },
  {
   "cell_type": "code",
   "execution_count": 658,
   "metadata": {},
   "outputs": [],
   "source": [
    "def get_train_test(y_in, x_in, k, train_more):\n",
    "    #define a mask to filter out the k-th element \n",
    "    no_k = np.ones(K, dtype = bool)\n",
    "    no_k[k] = False\n",
    "    \n",
    "    x = x_in[k]\n",
    "    y = y_in[k]\n",
    "    x_rest = x_in[no_k].reshape(N - N//K, D)\n",
    "    y_rest = y_in[no_k].reshape(N-N//K, 1)\n",
    "    m = np.mean(x, axis = 0)\n",
    "    m_rest = np.mean(x_rest, axis = 0)\n",
    "    s = np.std(x, axis = 0)\n",
    "    s_rest = np.std(x_rest, axis = 0)\n",
    "    print(np.max(abs(m_rest-m)))\n",
    "    print(np.max(abs(s_rest-s)))\n",
    "    if train_more == True:\n",
    "        mean = m_rest\n",
    "        stdv = s_rest\n",
    "        return y_rest, y, std(x_rest, mean, stdv), std(x, mean, stdv)\n",
    "    else:\n",
    "        mean = m\n",
    "        stdv = s\n",
    "        return y, y_rest, std(x, mean, stdv), std(x_rest, mean, stdv)"
   ]
  },
  {
   "cell_type": "code",
   "execution_count": 659,
   "metadata": {},
   "outputs": [],
   "source": [
    "def get_stsize(y, x, w, f, gradf):\n",
    "    sts = 1/(0.0000005*np.max(np.linalg.eig(x.T.dot(x))[0]))\n",
    "    a = gradf(y, x, w)\n",
    "    b = f(y, x, w)\n",
    "    c = LA.norm(gradf(y, x, w))**2\n",
    "    while f(y, x, w - sts*a) > b - sts/2*c:\n",
    "        sts = sts * beta\n",
    "        #if sts < 1/(1*np.max(np.linalg.eig(x.T.dot(x))[0])): return sts\n",
    "        #print(sts)\n",
    "    #print('\\n')\n",
    "    return sts"
   ]
  },
  {
   "cell_type": "code",
   "execution_count": 660,
   "metadata": {},
   "outputs": [],
   "source": [
    "def GD(y, x, w0, st_size, f, gradf):\n",
    "    w = np.zeros((n_iter+1,D,1))\n",
    "    L = np.zeros(n_iter+1)\n",
    "    w[0] = w0\n",
    "    L[0] = f(y,x,w[0])\n",
    "    for i in range(n_iter):\n",
    "        st_size = get_stsize(y,x,w[i], f, gradf)\n",
    "        w[i+1] = w[i] - st_size*gradf(y, x, w[i])\n",
    "        L[i+1] = f(y,x,w[i])\n",
    "    return w, L"
   ]
  },
  {
   "cell_type": "code",
   "execution_count": 661,
   "metadata": {},
   "outputs": [],
   "source": [
    "def SGD(y, x, w0, st_size, f, gradf):\n",
    "    w = np.zeros((n_iter+1, D,1))\n",
    "    L = np.zeros(n_iter+1)\n",
    "    w[0] = w0\n",
    "    window = np.random.randint(0, len(y), size=1)\n",
    "    L[0] = f(y[window],x[window],w[0])\n",
    "    #st_size = 1/(np.max(np.linalg.eig(x.T.dot(x))[0]))\n",
    "    for i in range(n_iter):\n",
    "        #define filter\n",
    "        window = np.random.randint(0, len(y), size=1)\n",
    "        #line search st size\n",
    "        #st_size = get_stsize(y[window],x[window],w[i], f, gradf) adaptive stepsize is not useful for SGD\n",
    "        w[i+1] = w[i] - st_size*gradf(y[window], x[window], w[i])\n",
    "        L[i+1] = f(y[window],x[window],w[i])\n",
    "    return w, L"
   ]
  },
  {
   "cell_type": "code",
   "execution_count": 662,
   "metadata": {},
   "outputs": [],
   "source": [
    "def train(mod, alg, y, x, w0):\n",
    "    f, gradf, st_size = model_train[mod]\n",
    "    return alg(y, x, w0, st_size, f, gradf)\n"
   ]
  },
  {
   "cell_type": "markdown",
   "metadata": {},
   "source": [
    "# Initialization"
   ]
  },
  {
   "cell_type": "code",
   "execution_count": 663,
   "metadata": {},
   "outputs": [
    {
     "name": "stdout",
     "output_type": "stream",
     "text": [
      "30\n"
     ]
    }
   ],
   "source": [
    "#set mask to filter out parameters that wont be used\n",
    "mask = np.ones(len(x_raw[0]), dtype=bool)\n",
    "mark = [] #np.array([0,4,5,6,9,11,12,15,18,20,23,24,25,26,27,28,29]) #############\n",
    "mask [mark] = False\n",
    "#set model functions (Ex: higher order regression,...)\n",
    "model_func = [\n",
    "              ]\n",
    "\n",
    "#set training model (EX: logistic, mse,...)\n",
    "model_train = {'logistic':(f_logistic, gradf_logistic, 0.001), #0.05 for GD of subsample, 0.001 for SGD subsample\n",
    "               'mse':(f_mse, gradf_mse, 0.0002)} # 0.01 for GD subsample, 0.0002 for SGD subsampple\n",
    "\n",
    "d = np.sum(mask) #number of original parameter used\n",
    "N = len(y_raw)\n",
    "K = 5 #K>=2\n",
    "beta = 0.5 #parameter to reduce stepsize in backtracking line search st=st*beta\n",
    "train_more = True\n",
    "print(d)"
   ]
  },
  {
   "cell_type": "code",
   "execution_count": 664,
   "metadata": {},
   "outputs": [],
   "source": [
    "x_raw = x_raw.reshape(N, 30)\n",
    "y_raw = y_raw.reshape(N, 1)\n",
    "y_full, x_full = preprocess(y_raw, x_raw, mask, model_func)\n",
    "D = len(x_full[0]) #number of total parameter"
   ]
  },
  {
   "cell_type": "code",
   "execution_count": 665,
   "metadata": {},
   "outputs": [],
   "source": [
    "ys, xs = split(y_full.copy(), x_full.copy())"
   ]
  },
  {
   "cell_type": "code",
   "execution_count": 672,
   "metadata": {},
   "outputs": [],
   "source": [
    "n_iter = 500\n",
    "w0 = np.zeros((D,1))\n",
    "wf = np.zeros((K, n_iter+1, D))\n",
    "Lf = np.zeros((K, n_iter+1))\n",
    "acc = np.zeros((K, n_iter+1))"
   ]
  },
  {
   "cell_type": "code",
   "execution_count": 673,
   "metadata": {},
   "outputs": [
    {
     "name": "stdout",
     "output_type": "stream",
     "text": [
      "366.44689276332423\n",
      "457.8485973885982\n",
      "(5000, 31)\n",
      "2111.2007241683673\n"
     ]
    }
   ],
   "source": [
    "#test\n",
    "y, yt, x, xt = get_train_test(ys, xs, 0, train_more)\n",
    "#print(np.std(x,axis =0))\n",
    "# stst = 1/(0.0000005*np.max(np.linalg.eig(x.T.dot(x))[0]))\n",
    "# print(stst)\n",
    "# a = f_logistic(y, x, w0 - stst*gradf_logistic(y, x, w0))\n",
    "# b = f_logistic(y, x, w0)\n",
    "# c = LA.norm(gradf_logistic(y, x, w0))**2\n",
    "# print(a>b-stst/2*c)\n",
    "print(x_full.shape)\n",
    "print(np.max(abs(np.std(xt, axis = 0))))"
   ]
  },
  {
   "cell_type": "markdown",
   "metadata": {},
   "source": [
    "# Main"
   ]
  },
  {
   "cell_type": "code",
   "execution_count": 674,
   "metadata": {},
   "outputs": [
    {
     "name": "stdout",
     "output_type": "stream",
     "text": [
      "1242.5723096179815\n",
      "2110.983754952053\n",
      "running0-th batch\n",
      "1431.8634666234564\n",
      "5460.637161579216\n",
      "running1-th batch\n",
      "1431.903521456484\n",
      "5460.619261841441\n",
      "running2-th batch\n",
      "1431.948916486408\n",
      "5460.604397674876\n",
      "running3-th batch\n",
      "1432.0285236820212\n",
      "5460.591681724721\n",
      "running4-th batch\n",
      "done\n"
     ]
    },
    {
     "data": {
      "text/plain": [
       "[<matplotlib.lines.Line2D at 0x1cd84e8a2b0>]"
      ]
     },
     "execution_count": 674,
     "metadata": {},
     "output_type": "execute_result"
    },
    {
     "data": {
      "image/png": "[encoded data removed]",
      "text/plain": [
       "<Figure size 432x288 with 1 Axes>"
      ]
     },
     "metadata": {
      "needs_background": "light"
     },
     "output_type": "display_data"
    }
   ],
   "source": [
    "for i in range(K):\n",
    "    y, yt, x, xt = get_train_test(ys, xs, i, train_more)\n",
    "    tmp_wf, Lf[i] = train('logistic', GD, y, x, w0) ##################\n",
    "    wf[i] = tmp_wf.reshape(n_iter+1,D)\n",
    "    print('running'+ str(i) +'-th batch')\n",
    "    for j in range(n_iter+1):\n",
    "        acc[i,j] = np.sum(np.sign(xt.dot(wf[i,j]).reshape(-1,1)) == yt)/len(yt)*100\n",
    "print('done')\n",
    "plt.plot(Lf[0])\n",
    "#acc: else\n",
    "#acc1: mse GD 5k iter, fixed stsize\n",
    "#acc2: mse SGD 5k iter\n",
    "#acc3: logistic GD 5k iter, fixed stsize\n",
    "#acc4: logistic SGD 5k iter\n",
    "#acc5: mse, SGD 50k iter \n",
    "#acc6: logistic, SGD 50k iter\n",
    "#acc7: mse, GD 500 iter, adapt stsize\n",
    "#acc8: logistic, GD 500 iter, adapt stsize\n",
    "#acc9: logistic, GD 500 iter, adapt stsize, "
   ]
  },
  {
   "cell_type": "code",
   "execution_count": 642,
   "metadata": {},
   "outputs": [
    {
     "name": "stdout",
     "output_type": "stream",
     "text": [
      "64.64\n",
      "12.841900170924859\n"
     ]
    },
    {
     "data": {
      "image/png": "[encoded data removed]",
      "text/plain": [
       "<Figure size 432x288 with 1 Axes>"
      ]
     },
     "metadata": {
      "needs_background": "light"
     },
     "output_type": "display_data"
    }
   ],
   "source": [
    "#acc9 = acc.copy()\n",
    "plt.plot(np.mean(acc[:,1:], axis = 0))\n",
    "print(np.mean(acc[:, n_iter]))\n",
    "print(np.std(acc[:, n_iter]))"
   ]
  },
  {
   "cell_type": "markdown",
   "metadata": {},
   "source": [
    "# output"
   ]
  },
  {
   "cell_type": "code",
   "execution_count": 453,
   "metadata": {},
   "outputs": [
    {
     "name": "stdout",
     "output_type": "stream",
     "text": [
      "74.78\n",
      "1.0283968105745958\n",
      "75.0\n",
      "0.9633275663033856\n"
     ]
    },
    {
     "data": {
      "image/png": "[encoded data removed]",
      "text/plain": [
       "<Figure size 432x288 with 1 Axes>"
      ]
     },
     "metadata": {
      "needs_background": "light"
     },
     "output_type": "display_data"
    }
   ],
   "source": [
    "xplot = np.arange(0, n_iter, 1)\n",
    "y5plot = np.mean(acc5[:,1:], axis = 0)\n",
    "y6plot = np.mean(acc6[:,1:], axis = 0)\n",
    "plt.plot(xplot, y5plot, xplot, y6plot)\n",
    "plt.ylabel('Accuracy (%)', fontsize=18)\n",
    "plt.xlabel('Iteration', fontsize=18)\n",
    "plt.legend(('mse, SGD', 'logistic, SGD'), loc = 'lower right')\n",
    "plt.title('Convergence of SGD with more iterations')\n",
    "print(np.mean(acc5[:, n_iter]))\n",
    "print(np.std(acc5[:, n_iter]))\n",
    "print(np.mean(acc6[:, n_iter]))\n",
    "print(np.std(acc6[:, n_iter]))"
   ]
  },
  {
   "cell_type": "code",
   "execution_count": 473,
   "metadata": {},
   "outputs": [
    {
     "name": "stdout",
     "output_type": "stream",
     "text": [
      "75.1\n",
      "0.7456540752922918\n",
      "75.41999999999999\n",
      "0.810925397308531\n"
     ]
    },
    {
     "data": {
      "image/png": "[encoded data removed]",
      "text/plain": [
       "<Figure size 432x288 with 1 Axes>"
      ]
     },
     "metadata": {
      "needs_background": "light"
     },
     "output_type": "display_data"
    }
   ],
   "source": [
    "xplot = np.arange(0, n_iter, 1)\n",
    "y7plot = np.mean(acc7[:,1:], axis = 0)\n",
    "y8plot = np.mean(acc8[:,1:], axis = 0)\n",
    "plt.plot(xplot, y7plot, xplot, y8plot)\n",
    "plt.ylabel('Accuracy (%)', fontsize=18)\n",
    "plt.xlabel('Iteration', fontsize=18)\n",
    "plt.legend(('mse, GD', 'logistic, GD'), loc = 'lower right')\n",
    "plt.title('Convergence of GD with adaptive step size')\n",
    "print(np.mean(acc7[:, n_iter]))\n",
    "print(np.std(acc7[:, n_iter]))\n",
    "print(np.mean(acc8[:, n_iter]))\n",
    "print(np.std(acc8[:, n_iter]))"
   ]
  },
  {
   "cell_type": "code",
   "execution_count": 466,
   "metadata": {},
   "outputs": [
    {
     "name": "stdout",
     "output_type": "stream",
     "text": [
      "75.12\n",
      "0.7807688518377245\n",
      "74.05999999999999\n",
      "1.6463292501805349\n",
      "75.52\n",
      "1.2890306435457624\n",
      "73.88\n",
      "1.0851727973000436\n"
     ]
    },
    {
     "data": {
      "image/png": "[encoded data removed]",
      "text/plain": [
       "<Figure size 432x288 with 1 Axes>"
      ]
     },
     "metadata": {
      "needs_background": "light"
     },
     "output_type": "display_data"
    }
   ],
   "source": [
    "xplot = np.arange(0, n_iter, 1)\n",
    "y1plot = np.mean(acc1[:,1:], axis = 0)\n",
    "y2plot = np.mean(acc2[:,1:], axis = 0)\n",
    "y3plot = np.mean(acc3[:,1:], axis = 0)\n",
    "y4plot = np.mean(acc4[:,1:], axis = 0)\n",
    "lines = plt.plot(xplot, y1plot, xplot, y2plot, xplot, y3plot, xplot, y4plot)\n",
    "plt.ylabel('Accuracy (%)', fontsize=18)\n",
    "plt.xlabel('Iteration', fontsize=18)\n",
    "plt.legend(('mse, GD', 'mse, SGD', 'logistic, GD', 'logistic, SGD'), loc = 'lower right')\n",
    "plt.title('Convergence of different methods')\n",
    "\n",
    "print(np.mean(acc1[:, n_iter]))\n",
    "print(np.std(acc1[:, n_iter]))\n",
    "\n",
    "print(np.mean(acc2[:, n_iter]))\n",
    "print(np.std(acc2[:, n_iter]))\n",
    "\n",
    "print(np.mean(acc3[:, n_iter]))\n",
    "print(np.std(acc8[:, n_iter]))\n",
    "\n",
    "print(np.mean(acc4[:, n_iter]))\n",
    "print(np.std(acc4[:, n_iter]))"
   ]
  },
  {
   "cell_type": "code",
   "execution_count": 339,
   "metadata": {},
   "outputs": [
    {
     "data": {
      "text/plain": [
       "[<matplotlib.lines.Line2D at 0x1cd802a8e10>]"
      ]
     },
     "execution_count": 339,
     "metadata": {},
     "output_type": "execute_result"
    },
    {
     "data": {
      "image/png": "[encoded data removed]",
      "text/plain": [
       "<Figure size 432x288 with 1 Axes>"
      ]
     },
     "metadata": {
      "needs_background": "light"
     },
     "output_type": "display_data"
    }
   ],
   "source": [
    "plt.plot(y1plot)"
   ]
  },
  {
   "cell_type": "markdown",
   "metadata": {},
   "source": [
    "# run with test.csv"
   ]
  },
  {
   "cell_type": "code",
   "execution_count": 102,
   "metadata": {},
   "outputs": [
    {
     "name": "stdout",
     "output_type": "stream",
     "text": [
      "0\n",
      "[-9.84140723e-02  4.58239172e-01 -7.30382342e-01  1.99142575e-01\n",
      "  1.80603476e-01  4.75670054e-02 -4.79674211e-02 -3.07485528e-02\n",
      "  3.31053536e-01 -8.20673475e-02  2.36575410e-01 -3.49399733e-01\n",
      "  8.96774699e-02  4.95859905e-02  6.86877463e-01  9.87356159e-02\n",
      "  1.94838092e-02  3.33334903e-01  7.69459962e-02  5.85609227e-02\n",
      " -6.90335309e-02 -7.73512928e-02  5.49128197e-02 -4.38119534e-02\n",
      "  2.25987981e-01 -1.28999958e-01  2.05680223e-02  8.52140526e-03\n",
      " -7.66568132e-03 -1.69440125e-03  6.21003777e-02 -7.65043950e-01\n",
      "  1.09173397e-02 -7.32555435e-01  2.82314997e-01  8.39167472e-02\n",
      " -4.31997526e-03  3.03982693e-02 -3.11925788e-01  1.44244147e-01\n",
      " -1.29211749e-01  3.03113454e-02  1.53575580e-01 -1.28315598e-02\n",
      " -8.55966896e-02 -1.23071691e-01 -4.72561785e-02  1.03796562e-01\n",
      " -2.11210075e-01 -4.92799667e-02  1.86624274e-01  1.42154398e-02\n",
      " -2.04191477e-01 -4.56303925e-02 -1.67849057e-01  1.66462102e-01\n",
      " -8.61917287e-02  5.63413996e-02  8.16372200e-02 -2.07660703e-02\n",
      " -9.21678017e-02 -1.84348055e-02  3.43985131e-02 -3.75160611e-01\n",
      " -4.18192164e-02 -2.30930544e-02  4.72452976e-04 -7.27333730e-03\n",
      "  1.89609922e-01 -1.24736250e-02  7.80143949e-02  5.57815132e-03\n",
      "  1.27990627e-01  5.22717557e-02 -1.76319617e-03 -1.84442995e-02\n",
      " -1.85711317e-02 -2.15262565e-02 -1.30492011e-02  1.84281459e-03\n",
      " -1.41884376e-02  8.47293753e-03 -9.14592496e-03 -7.41270533e-02\n",
      "  2.74231583e-02  1.06881470e-02 -6.34553316e-03 -2.23021906e-03\n",
      "  1.08210265e-03  1.73743644e-04 -4.12116900e-02]\n"
     ]
    }
   ],
   "source": [
    "i_f = np.max(np.where(acc == np.max(acc)))\n",
    "print(i_f)\n",
    "wff = wf[i_f, n_iter]\n",
    "print(wff)"
   ]
  },
  {
   "cell_type": "code",
   "execution_count": 38,
   "metadata": {},
   "outputs": [],
   "source": [
    "y_test_raw, x_test_raw, ids_test = load_csv_data('test.csv')"
   ]
  },
  {
   "cell_type": "code",
   "execution_count": 103,
   "metadata": {},
   "outputs": [
    {
     "name": "stdout",
     "output_type": "stream",
     "text": [
      "568238\n",
      "(568238, 30)\n"
     ]
    }
   ],
   "source": [
    "n_test = len(y_test_raw)\n",
    "print(n_test)\n",
    "x_test = x_test_raw.reshape(n_test, len(x_test_raw[0]))\n",
    "y_test = y_test_raw.reshape(n_test, 1)\n",
    "print(x_test.shape)\n",
    "y_tt, x_tt = preprocess(y_test.copy(), x_test.copy(), mask, model_func)"
   ]
  },
  {
   "cell_type": "code",
   "execution_count": 104,
   "metadata": {},
   "outputs": [
    {
     "name": "stdout",
     "output_type": "stream",
     "text": [
      "[-9.84140723e-02  4.58239172e-01 -7.30382342e-01  1.99142575e-01\n",
      "  1.80603476e-01  4.75670054e-02 -4.79674211e-02 -3.07485528e-02\n",
      "  3.31053536e-01 -8.20673475e-02  2.36575410e-01 -3.49399733e-01\n",
      "  8.96774699e-02  4.95859905e-02  6.86877463e-01  9.87356159e-02\n",
      "  1.94838092e-02  3.33334903e-01  7.69459962e-02  5.85609227e-02\n",
      " -6.90335309e-02 -7.73512928e-02  5.49128197e-02 -4.38119534e-02\n",
      "  2.25987981e-01 -1.28999958e-01  2.05680223e-02  8.52140526e-03\n",
      " -7.66568132e-03 -1.69440125e-03  6.21003777e-02 -7.65043950e-01\n",
      "  1.09173397e-02 -7.32555435e-01  2.82314997e-01  8.39167472e-02\n",
      " -4.31997526e-03  3.03982693e-02 -3.11925788e-01  1.44244147e-01\n",
      " -1.29211749e-01  3.03113454e-02  1.53575580e-01 -1.28315598e-02\n",
      " -8.55966896e-02 -1.23071691e-01 -4.72561785e-02  1.03796562e-01\n",
      " -2.11210075e-01 -4.92799667e-02  1.86624274e-01  1.42154398e-02\n",
      " -2.04191477e-01 -4.56303925e-02 -1.67849057e-01  1.66462102e-01\n",
      " -8.61917287e-02  5.63413996e-02  8.16372200e-02 -2.07660703e-02\n",
      " -9.21678017e-02 -1.84348055e-02  3.43985131e-02 -3.75160611e-01\n",
      " -4.18192164e-02 -2.30930544e-02  4.72452976e-04 -7.27333730e-03\n",
      "  1.89609922e-01 -1.24736250e-02  7.80143949e-02  5.57815132e-03\n",
      "  1.27990627e-01  5.22717557e-02 -1.76319617e-03 -1.84442995e-02\n",
      " -1.85711317e-02 -2.15262565e-02 -1.30492011e-02  1.84281459e-03\n",
      " -1.41884376e-02  8.47293753e-03 -9.14592496e-03 -7.41270533e-02\n",
      "  2.74231583e-02  1.06881470e-02 -6.34553316e-03 -2.23021906e-03\n",
      "  1.08210265e-03  1.73743644e-04 -4.12116900e-02]\n",
      "28.691498984580406\n"
     ]
    }
   ],
   "source": [
    "print(wff)\n",
    "print(np.sum(np.sign(x_tt.dot(wff)) == 1)*100/n_test)"
   ]
  },
  {
   "cell_type": "code",
   "execution_count": 105,
   "metadata": {},
   "outputs": [],
   "source": [
    "create_csv_submission(ids_test, predict_labels(wff,x_tt), 'how_bad_can_it_get.csv')"
   ]
  },
  {
   "cell_type": "code",
   "execution_count": null,
   "metadata": {},
   "outputs": [],
   "source": []
  }
 ],
 "metadata": {
  "kernelspec": {
   "display_name": "Python 3",
   "language": "python",
   "name": "python3"
  },
  "language_info": {
   "codemirror_mode": {
    "name": "ipython",
    "version": 3
   },
   "file_extension": ".py",
   "mimetype": "text/x-python",
   "name": "python",
   "nbconvert_exporter": "python",
   "pygments_lexer": "ipython3",
   "version": "3.7.0"
  }
 },
 "nbformat": 4,
 "nbformat_minor": 2
}
