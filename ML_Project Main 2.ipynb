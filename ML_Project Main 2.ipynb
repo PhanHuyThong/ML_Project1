{
 "cells": [
  {
   "cell_type": "code",
   "execution_count": 1,
   "metadata": {},
   "outputs": [],
   "source": [
    "# Useful starting lines\n",
    "%matplotlib inline\n",
    "import numpy as np\n",
    "from numpy import linalg as LA\n",
    "import matplotlib.pyplot as plt\n",
    "from helpers import *\n",
    "%load_ext autoreload\n",
    "%autoreload 2"
   ]
  },
  {
   "cell_type": "code",
   "execution_count": 2,
   "metadata": {},
   "outputs": [],
   "source": [
    "data_path = 'train.csv'\n",
    "y_raw, x_raw, ids = load_csv_data(data_path, True)"
   ]
  },
  {
   "cell_type": "markdown",
   "metadata": {},
   "source": [
    "# Math functions"
   ]
  },
  {
   "cell_type": "code",
   "execution_count": 587,
   "metadata": {},
   "outputs": [],
   "source": [
    "f_mse = lambda y,x,w: 1/(2*len(y))*LA.norm(y-x.dot(w))**2\n",
    "gradf_mse = lambda y,x,w: -1/len(y)*x.T.dot(y-x.dot(w))\n",
    "sigmoid = lambda x: 1./(1.+np.exp(-x))\n",
    "f_logistic = lambda y,x,w: -np.sum(np.log(sigmoid(y*np.dot(x,w))), axis=0)/len(y)\n",
    "gradf_logistic = lambda y,x,w: (-x.T.dot((1. - sigmoid(y*(x.dot(w)))) * y))/len(y)"
   ]
  },
  {
   "cell_type": "markdown",
   "metadata": {},
   "source": [
    "# functions "
   ]
  },
  {
   "cell_type": "code",
   "execution_count": 606,
   "metadata": {},
   "outputs": [],
   "source": [
    "def clean(x):\n",
    "    '''replace -999 by mean of the rest'''\n",
    "    for i in range(len(x[0])):\n",
    "        tmp = x[:,i]\n",
    "        tmp[tmp == -999] = np.mean(tmp[tmp != -999])\n",
    "        x[:,i] = tmp\n",
    "    return x"
   ]
  },
  {
   "cell_type": "code",
   "execution_count": 607,
   "metadata": {},
   "outputs": [],
   "source": [
    "def std(x, mean, stdv):\n",
    "    for i in range(1, len(x[0])):\n",
    "        x[:,i] = (x[:,i] - mean[i])/stdv[i]\n",
    "    return x"
   ]
  },
  {
   "cell_type": "code",
   "execution_count": 608,
   "metadata": {},
   "outputs": [],
   "source": [
    "def addcolumn(x,f):\n",
    "    for i in range(len(f)):\n",
    "        for j in range(d):\n",
    "            x = np.concatenate((x, f[i](x[:,j]).reshape(-1,1)), axis = 1)\n",
    "    x = np.concatenate((np.ones((len(x[:,0]),1)), x), axis = 1)\n",
    "    return x"
   ]
  },
  {
   "cell_type": "code",
   "execution_count": 609,
   "metadata": {},
   "outputs": [],
   "source": [
    "def preprocess(y_in, x_in, mask, f):\n",
    "    '''apply mask --> clean --> std --> for each parameter x[:,i] and each f[j], add 1 column f[j](x[:,i]) \n",
    "    --> add column \"1\" to the left'''\n",
    "    x = clean(x_in[:, mask])\n",
    "    yx = np.concatenate((y_in, x), axis = 1)\n",
    "    np.random.shuffle(yx)\n",
    "    y = yx[:,0]\n",
    "    x = yx[:,1:]\n",
    "    x = addcolumn(x,f)\n",
    "    return y, x"
   ]
  },
  {
   "cell_type": "code",
   "execution_count": 712,
   "metadata": {},
   "outputs": [],
   "source": [
    "def split(y, x):\n",
    "    '''reshape x_in, y_in into K subsets of size (N//K) x d'''\n",
    "    return y.reshape(K, N//K, 1).copy(), x.reshape(K, N//K, D).copy()"
   ]
  },
  {
   "cell_type": "code",
   "execution_count": 820,
   "metadata": {},
   "outputs": [],
   "source": [
    "def get_train_test(y_in, x_in, k, train_more):\n",
    "    #define a mask to filter out the k-th element \n",
    "    no_k = np.ones(K, dtype = bool)\n",
    "    no_k[k] = False\n",
    "    \n",
    "    x = x_in[k].copy()\n",
    "    y = y_in[k].copy()\n",
    "    x_rest = x_in[no_k].reshape(N - N//K, D).copy()\n",
    "    y_rest = y_in[no_k].reshape(N-N//K, 1).copy()\n",
    "    m = np.mean(x, axis = 0)\n",
    "    m_rest = np.mean(x_rest, axis = 0)\n",
    "    s = np.std(x, axis = 0)\n",
    "    s_rest = np.std(x_rest, axis = 0)\n",
    "    print(np.max(abs(m_rest-m)))\n",
    "    print(np.max(abs(s_rest-s)))\n",
    "    if train_more == True:\n",
    "        mean = m_rest\n",
    "        stdv = s_rest\n",
    "        return y_rest, y, std(x_rest, mean, stdv), std(x, mean, stdv), mean, stdv\n",
    "    else:\n",
    "        mean = m\n",
    "        stdv = s\n",
    "        return y, y_rest, std(x, mean, stdv), std(x_rest, mean, stdv), mean, stdv"
   ]
  },
  {
   "cell_type": "code",
   "execution_count": 714,
   "metadata": {},
   "outputs": [],
   "source": [
    "def get_stsize(y, x, w, f, gradf):\n",
    "    sts = 1/(0.0000005*np.max(np.linalg.eig(x.T.dot(x))[0]))\n",
    "    a = gradf(y, x, w)\n",
    "    b = f(y, x, w)\n",
    "    c = LA.norm(gradf(y, x, w))**2\n",
    "    while f(y, x, w - sts*a) > b - sts/2*c:\n",
    "        sts = sts * beta\n",
    "        #if sts < 1/(1*np.max(np.linalg.eig(x.T.dot(x))[0])): return sts\n",
    "        #print(sts)\n",
    "    #print('\\n')\n",
    "    return sts"
   ]
  },
  {
   "cell_type": "code",
   "execution_count": 715,
   "metadata": {},
   "outputs": [],
   "source": [
    "def GD(y, x, w0, st_size, f, gradf):\n",
    "    w = np.zeros((n_iter+1,D,1))\n",
    "    L = np.zeros(n_iter+1)\n",
    "    w[0] = w0\n",
    "    L[0] = f(y,x,w[0])\n",
    "    for i in range(n_iter):\n",
    "        st_size = get_stsize(y,x,w[i], f, gradf)\n",
    "        w[i+1] = w[i] - st_size*gradf(y, x, w[i])\n",
    "        L[i+1] = f(y,x,w[i])\n",
    "    return w, L"
   ]
  },
  {
   "cell_type": "code",
   "execution_count": 716,
   "metadata": {},
   "outputs": [],
   "source": [
    "def SGD(y, x, w0, st_size, f, gradf):\n",
    "    w = np.zeros((n_iter+1, D,1))\n",
    "    L = np.zeros(n_iter+1)\n",
    "    w[0] = w0\n",
    "    window = np.random.randint(0, len(y), size=1)\n",
    "    L[0] = f(y[window],x[window],w[0])\n",
    "    #st_size = 1/(np.max(np.linalg.eig(x.T.dot(x))[0]))\n",
    "    for i in range(n_iter):\n",
    "        #define filter\n",
    "        window = np.random.randint(0, len(y), size=1)\n",
    "        #line search st size\n",
    "        #st_size = get_stsize(y[window],x[window],w[i], f, gradf) adaptive stepsize is not useful for SGD\n",
    "        w[i+1] = w[i] - st_size*gradf(y[window], x[window], w[i])\n",
    "        L[i+1] = f(y[window],x[window],w[i])\n",
    "    return w, L"
   ]
  },
  {
   "cell_type": "code",
   "execution_count": 717,
   "metadata": {},
   "outputs": [],
   "source": [
    "def train(mod, alg, y, x, w0):\n",
    "    f, gradf, st_size = model_train[mod]\n",
    "    return alg(y, x, w0, st_size, f, gradf)\n"
   ]
  },
  {
   "cell_type": "markdown",
   "metadata": {},
   "source": [
    "# Initialization"
   ]
  },
  {
   "cell_type": "code",
   "execution_count": 801,
   "metadata": {},
   "outputs": [
    {
     "name": "stdout",
     "output_type": "stream",
     "text": [
      "30\n"
     ]
    }
   ],
   "source": [
    "#set mask to filter out parameters that wont be used\n",
    "mask = np.ones(len(x_raw[0]), dtype=bool)\n",
    "mark = [] #np.array([0,4,5,6,9,11,12,15,18,20,23,24,25,26,27,28,29]) #############\n",
    "mask [mark] = False\n",
    "#set model functions (Ex: higher order regression,...)\n",
    "model_func = [lambda x: x**2,\n",
    "              lambda x: x**3]#,\n",
    "              #lambda x: x**5]\n",
    "\n",
    "#set training model (EX: logistic, mse,...)\n",
    "model_train = {'logistic':(f_logistic, gradf_logistic, 0.05), #0.05 for GD of subsample, 0.001 for SGD subsample\n",
    "               'mse':(f_mse, gradf_mse, 0.01)} # 0.01 for GD subsample, 0.0002 for SGD subsampple\n",
    "\n",
    "d = np.sum(mask) #number of original parameter used\n",
    "N = len(y_raw)\n",
    "K = 5 #K>=2\n",
    "beta = 0.5 #parameter to reduce stepsize in backtracking line search st=st*beta\n",
    "train_more = True\n",
    "print(d)"
   ]
  },
  {
   "cell_type": "code",
   "execution_count": 802,
   "metadata": {},
   "outputs": [],
   "source": [
    "x_raw = x_raw.reshape(N, 30)\n",
    "y_raw = y_raw.reshape(N, 1)\n",
    "y_full, x_full = preprocess(y_raw, x_raw, mask, model_func)\n",
    "D = len(x_full[0]) #number of total parameter"
   ]
  },
  {
   "cell_type": "code",
   "execution_count": 803,
   "metadata": {},
   "outputs": [],
   "source": [
    "ys, xs = split(y_full.copy(), x_full.copy())"
   ]
  },
  {
   "cell_type": "code",
   "execution_count": 824,
   "metadata": {},
   "outputs": [],
   "source": [
    "n_iter = 500\n",
    "E = np.zeros((K, D))\n",
    "STD = np.zeros((K, D))\n",
    "w0 = np.zeros((D,1))\n",
    "wf = np.zeros((K, n_iter+1, D))\n",
    "Lf = np.zeros((K, n_iter+1))\n",
    "acc = np.zeros((K, n_iter+1))"
   ]
  },
  {
   "cell_type": "code",
   "execution_count": 825,
   "metadata": {},
   "outputs": [],
   "source": [
    "#test\n",
    "#y, yt, x, xt = get_train_test(ys, xs, 0, train_more)\n",
    "#print(np.std(x,axis =0))\n",
    "# stst = 1/(0.0000005*np.max(np.linalg.eig(x.T.dot(x))[0]))\n",
    "# print(stst)\n",
    "# a = f_logistic(y, x, w0 - stst*gradf_logistic(y, x, w0))\n",
    "# b = f_logistic(y, x, w0)\n",
    "# c = LA.norm(gradf_logistic(y, x, w0))**2\n",
    "# print(a>b-stst/2*c)\n"
   ]
  },
  {
   "cell_type": "markdown",
   "metadata": {},
   "source": [
    "# Main"
   ]
  },
  {
   "cell_type": "code",
   "execution_count": 826,
   "metadata": {},
   "outputs": [
    {
     "name": "stdout",
     "output_type": "stream",
     "text": [
      "7375210.373018619\n",
      "285995739.7437527\n",
      "running0-th batch\n",
      "24028710.842632234\n",
      "199881973.5221243\n",
      "running1-th batch\n",
      "56754806.57472928\n",
      "658716202.9043705\n",
      "running2-th batch\n",
      "33200296.59320359\n",
      "397061496.55794597\n",
      "running3-th batch\n",
      "5344431.40244481\n",
      "69942325.32041967\n",
      "running4-th batch\n",
      "done\n"
     ]
    },
    {
     "data": {
      "text/plain": [
       "[<matplotlib.lines.Line2D at 0x1cd8a406240>]"
      ]
     },
     "execution_count": 826,
     "metadata": {},
     "output_type": "execute_result"
    },
    {
     "data": {
      "image/png": "[encoded data removed]",
      "text/plain": [
       "<Figure size 432x288 with 1 Axes>"
      ]
     },
     "metadata": {
      "needs_background": "light"
     },
     "output_type": "display_data"
    }
   ],
   "source": [
    "for i in range(K):\n",
    "    y, yt, x, xt, E[i], STD[i] = get_train_test(ys, xs, i, train_more)\n",
    "    tmp_wf, Lf[i] = train('logistic', GD, y, x, w0) ##################\n",
    "    wf[i] = tmp_wf.reshape(n_iter+1,D)\n",
    "    print('running'+ str(i) +'-th batch')\n",
    "    for j in range(n_iter+1):\n",
    "        acc[i,j] = np.sum(np.sign(xt.dot(wf[i,j]).reshape(-1,1)) == yt)/len(yt)*100\n",
    "print('done')\n",
    "plt.plot(Lf[0])\n",
    "#acc: else\n",
    "#acc1: mse GD 5k iter, fixed stsize\n",
    "#acc2: mse SGD 5k iter\n",
    "#acc3: logistic GD 5k iter, fixed stsize\n",
    "#acc4: logistic SGD 5k iter\n",
    "#acc5: mse, SGD 50k iter \n",
    "#acc6: logistic, SGD 50k iter\n",
    "#acc7: mse, GD 500 iter, adapt stsize\n",
    "#acc8: logistic, GD 500 iter, adapt stsize\n",
    "#acc9: logistic, GD 500 iter, adapt stsize, "
   ]
  },
  {
   "cell_type": "code",
   "execution_count": 827,
   "metadata": {},
   "outputs": [
    {
     "name": "stdout",
     "output_type": "stream",
     "text": [
      "81.11999999999999\n",
      "1.45931490775637\n"
     ]
    },
    {
     "data": {
      "image/png": "[encoded data removed]",
      "text/plain": [
       "<Figure size 432x288 with 1 Axes>"
      ]
     },
     "metadata": {
      "needs_background": "light"
     },
     "output_type": "display_data"
    }
   ],
   "source": [
    "#acc9 = acc.copy()\n",
    "plt.plot(np.mean(acc[:,1:], axis = 0))\n",
    "print(np.mean(acc[:, n_iter]))\n",
    "print(np.std(acc[:, n_iter]))"
   ]
  },
  {
   "cell_type": "markdown",
   "metadata": {},
   "source": [
    "# output"
   ]
  },
  {
   "cell_type": "code",
   "execution_count": 453,
   "metadata": {},
   "outputs": [
    {
     "name": "stdout",
     "output_type": "stream",
     "text": [
      "74.78\n",
      "1.0283968105745958\n",
      "75.0\n",
      "0.9633275663033856\n"
     ]
    },
    {
     "data": {
      "image/png": "[encoded data removed]",
      "text/plain": [
       "<Figure size 432x288 with 1 Axes>"
      ]
     },
     "metadata": {
      "needs_background": "light"
     },
     "output_type": "display_data"
    }
   ],
   "source": [
    "xplot = np.arange(0, n_iter, 1)\n",
    "y5plot = np.mean(acc5[:,1:], axis = 0)\n",
    "y6plot = np.mean(acc6[:,1:], axis = 0)\n",
    "plt.plot(xplot, y5plot, xplot, y6plot)\n",
    "plt.ylabel('Accuracy (%)', fontsize=18)\n",
    "plt.xlabel('Iteration', fontsize=18)\n",
    "plt.legend(('mse, SGD', 'logistic, SGD'), loc = 'lower right')\n",
    "plt.title('Convergence of SGD with more iterations')\n",
    "print(np.mean(acc5[:, n_iter]))\n",
    "print(np.std(acc5[:, n_iter]))\n",
    "print(np.mean(acc6[:, n_iter]))\n",
    "print(np.std(acc6[:, n_iter]))"
   ]
  },
  {
   "cell_type": "code",
   "execution_count": 473,
   "metadata": {},
   "outputs": [
    {
     "name": "stdout",
     "output_type": "stream",
     "text": [
      "75.1\n",
      "0.7456540752922918\n",
      "75.41999999999999\n",
      "0.810925397308531\n"
     ]
    },
    {
     "data": {
      "image/png": "[encoded data removed]",
      "text/plain": [
       "<Figure size 432x288 with 1 Axes>"
      ]
     },
     "metadata": {
      "needs_background": "light"
     },
     "output_type": "display_data"
    }
   ],
   "source": [
    "xplot = np.arange(0, n_iter, 1)\n",
    "y7plot = np.mean(acc7[:,1:], axis = 0)\n",
    "y8plot = np.mean(acc8[:,1:], axis = 0)\n",
    "plt.plot(xplot, y7plot, xplot, y8plot)\n",
    "plt.ylabel('Accuracy (%)', fontsize=18)\n",
    "plt.xlabel('Iteration', fontsize=18)\n",
    "plt.legend(('mse, GD', 'logistic, GD'), loc = 'lower right')\n",
    "plt.title('Convergence of GD with adaptive step size')\n",
    "print(np.mean(acc7[:, n_iter]))\n",
    "print(np.std(acc7[:, n_iter]))\n",
    "print(np.mean(acc8[:, n_iter]))\n",
    "print(np.std(acc8[:, n_iter]))"
   ]
  },
  {
   "cell_type": "code",
   "execution_count": 466,
   "metadata": {},
   "outputs": [
    {
     "name": "stdout",
     "output_type": "stream",
     "text": [
      "75.12\n",
      "0.7807688518377245\n",
      "74.05999999999999\n",
      "1.6463292501805349\n",
      "75.52\n",
      "1.2890306435457624\n",
      "73.88\n",
      "1.0851727973000436\n"
     ]
    },
    {
     "data": {
      "image/png": "[encoded data removed]",
      "text/plain": [
       "<Figure size 432x288 with 1 Axes>"
      ]
     },
     "metadata": {
      "needs_background": "light"
     },
     "output_type": "display_data"
    }
   ],
   "source": [
    "xplot = np.arange(0, n_iter, 1)\n",
    "y1plot = np.mean(acc1[:,1:], axis = 0)\n",
    "y2plot = np.mean(acc2[:,1:], axis = 0)\n",
    "y3plot = np.mean(acc3[:,1:], axis = 0)\n",
    "y4plot = np.mean(acc4[:,1:], axis = 0)\n",
    "lines = plt.plot(xplot, y1plot, xplot, y2plot, xplot, y3plot, xplot, y4plot)\n",
    "plt.ylabel('Accuracy (%)', fontsize=18)\n",
    "plt.xlabel('Iteration', fontsize=18)\n",
    "plt.legend(('mse, GD', 'mse, SGD', 'logistic, GD', 'logistic, SGD'), loc = 'lower right')\n",
    "plt.title('Convergence of different methods')\n",
    "\n",
    "print(np.mean(acc1[:, n_iter]))\n",
    "print(np.std(acc1[:, n_iter]))\n",
    "\n",
    "print(np.mean(acc2[:, n_iter]))\n",
    "print(np.std(acc2[:, n_iter]))\n",
    "\n",
    "print(np.mean(acc3[:, n_iter]))\n",
    "print(np.std(acc8[:, n_iter]))\n",
    "\n",
    "print(np.mean(acc4[:, n_iter]))\n",
    "print(np.std(acc4[:, n_iter]))"
   ]
  },
  {
   "cell_type": "markdown",
   "metadata": {},
   "source": [
    "# run with test.csv"
   ]
  },
  {
   "cell_type": "code",
   "execution_count": 828,
   "metadata": {},
   "outputs": [
    {
     "name": "stdout",
     "output_type": "stream",
     "text": [
      "(4, 469)\n",
      "83.0\n",
      "[-1.93022411e+00  2.57236034e+00 -4.67804213e-01  6.36857992e-01\n",
      "  7.19076832e-01 -4.54900963e-01 -7.87591351e-01 -4.92245477e-02\n",
      "  2.41035749e+00 -4.09008290e-01  4.05872848e-01 -9.90002260e-01\n",
      " -1.56442492e-01  8.27920529e-02  1.07801925e+00  6.98331300e-02\n",
      "  1.23242862e-01  1.26130495e+00  9.01462568e-02  2.01217258e-01\n",
      " -3.87598762e-01 -5.96002954e-02  5.57299835e-01 -6.51442702e-02\n",
      "  8.60096378e-01 -1.45869497e-01 -1.98263982e-03  4.37439360e-01\n",
      " -7.53463645e-03 -3.49619904e-02 -6.59944249e-03 -3.76151123e+00\n",
      " -1.05702600e+00 -3.31973393e+00  1.19214032e-01  9.03144755e-01\n",
      "  4.62186053e-01 -9.59941444e-02 -2.48654528e-01  1.16560447e+00\n",
      " -7.60156003e-01  1.77667710e-01  1.40285156e-01  1.74788052e-01\n",
      " -8.31991564e-01 -1.16180206e-01 -1.03535101e-02 -5.06836738e-02\n",
      " -2.09323633e-01  1.03967451e-02  7.14909014e-01  3.17931769e-03\n",
      " -1.20231880e+00 -3.48689895e-02 -1.18128502e+00  2.96392364e-01\n",
      " -6.81020162e-02 -1.08009837e-01  2.55688885e-01 -5.35988209e-02\n",
      " -7.38951770e-01 -2.52401088e+00  1.07743227e+00 -1.88616802e+00\n",
      " -4.50628162e-01  3.79303268e-02 -1.31669971e-01 -6.48418858e-02\n",
      " -1.13494912e+00 -7.03996018e-01  6.30323071e-01  3.62225425e-01\n",
      "  2.42643573e-01  1.11303132e-02  3.75027179e-01  4.01826351e-03\n",
      " -1.22204568e-01 -4.19509319e-01 -5.56449151e-02 -1.50907724e-01\n",
      " -8.91460198e-02  1.30159776e-02  1.53418328e-01 -1.81553364e-01\n",
      "  7.89199250e-01  6.51414419e-02  2.95847295e-02 -3.89747560e-01\n",
      "  4.64767498e-02  3.27922266e-02  6.52298421e-01]\n"
     ]
    }
   ],
   "source": [
    "accf = np.mean(acc[:,1:], axis = 0)\n",
    "i_f = np.unravel_index(np.argmax(acc, axis=None), acc.shape)\n",
    "print(i_f)\n",
    "print(acc[i_f])\n",
    "wff = wf[i_f]\n",
    "print(wff)"
   ]
  },
  {
   "cell_type": "code",
   "execution_count": 819,
   "metadata": {},
   "outputs": [],
   "source": [
    "y_test_raw, x_test_raw, ids_test = load_csv_data('test.csv')"
   ]
  },
  {
   "cell_type": "code",
   "execution_count": 829,
   "metadata": {},
   "outputs": [
    {
     "name": "stdout",
     "output_type": "stream",
     "text": [
      "568238\n",
      "(568238, 30)\n"
     ]
    }
   ],
   "source": [
    "n_test = len(y_test_raw)\n",
    "print(n_test)\n",
    "x_test = x_test_raw.reshape(n_test, len(x_test_raw[0]))\n",
    "y_test = y_test_raw.reshape(n_test, 1)\n",
    "print(x_test.shape)\n",
    "y_tt, x_tt = preprocess(y_test.copy(), x_test.copy(), mask, model_func)\n",
    "x_ttt = std(x_tt, E[i_f[0]], STD[i_f[0]])"
   ]
  },
  {
   "cell_type": "code",
   "execution_count": 830,
   "metadata": {},
   "outputs": [
    {
     "name": "stdout",
     "output_type": "stream",
     "text": [
      "[-1.93022411e+00  2.57236034e+00 -4.67804213e-01  6.36857992e-01\n",
      "  7.19076832e-01 -4.54900963e-01 -7.87591351e-01 -4.92245477e-02\n",
      "  2.41035749e+00 -4.09008290e-01  4.05872848e-01 -9.90002260e-01\n",
      " -1.56442492e-01  8.27920529e-02  1.07801925e+00  6.98331300e-02\n",
      "  1.23242862e-01  1.26130495e+00  9.01462568e-02  2.01217258e-01\n",
      " -3.87598762e-01 -5.96002954e-02  5.57299835e-01 -6.51442702e-02\n",
      "  8.60096378e-01 -1.45869497e-01 -1.98263982e-03  4.37439360e-01\n",
      " -7.53463645e-03 -3.49619904e-02 -6.59944249e-03 -3.76151123e+00\n",
      " -1.05702600e+00 -3.31973393e+00  1.19214032e-01  9.03144755e-01\n",
      "  4.62186053e-01 -9.59941444e-02 -2.48654528e-01  1.16560447e+00\n",
      " -7.60156003e-01  1.77667710e-01  1.40285156e-01  1.74788052e-01\n",
      " -8.31991564e-01 -1.16180206e-01 -1.03535101e-02 -5.06836738e-02\n",
      " -2.09323633e-01  1.03967451e-02  7.14909014e-01  3.17931769e-03\n",
      " -1.20231880e+00 -3.48689895e-02 -1.18128502e+00  2.96392364e-01\n",
      " -6.81020162e-02 -1.08009837e-01  2.55688885e-01 -5.35988209e-02\n",
      " -7.38951770e-01 -2.52401088e+00  1.07743227e+00 -1.88616802e+00\n",
      " -4.50628162e-01  3.79303268e-02 -1.31669971e-01 -6.48418858e-02\n",
      " -1.13494912e+00 -7.03996018e-01  6.30323071e-01  3.62225425e-01\n",
      "  2.42643573e-01  1.11303132e-02  3.75027179e-01  4.01826351e-03\n",
      " -1.22204568e-01 -4.19509319e-01 -5.56449151e-02 -1.50907724e-01\n",
      " -8.91460198e-02  1.30159776e-02  1.53418328e-01 -1.81553364e-01\n",
      "  7.89199250e-01  6.51414419e-02  2.95847295e-02 -3.89747560e-01\n",
      "  4.64767498e-02  3.27922266e-02  6.52298421e-01]\n",
      "30.58577567850091\n"
     ]
    }
   ],
   "source": [
    "print(wff)\n",
    "print(np.sum(np.sign(x_tt.dot(wff)) == 1)*100/n_test)"
   ]
  },
  {
   "cell_type": "code",
   "execution_count": 831,
   "metadata": {},
   "outputs": [],
   "source": [
    "create_csv_submission(ids_test, predict_labels(wff,x_tt), 'how_bad_can_it_get.csv')"
   ]
  },
  {
   "cell_type": "code",
   "execution_count": null,
   "metadata": {},
   "outputs": [],
   "source": []
  }
 ],
 "metadata": {
  "kernelspec": {
   "display_name": "Python 3",
   "language": "python",
   "name": "python3"
  },
  "language_info": {
   "codemirror_mode": {
    "name": "ipython",
    "version": 3
   },
   "file_extension": ".py",
   "mimetype": "text/x-python",
   "name": "python",
   "nbconvert_exporter": "python",
   "pygments_lexer": "ipython3",
   "version": "3.7.0"
  }
 },
 "nbformat": 4,
 "nbformat_minor": 2
}
