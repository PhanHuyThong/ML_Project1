{
 "cells": [
  {
   "cell_type": "code",
   "execution_count": 1,
   "metadata": {},
   "outputs": [],
   "source": [
    "# Useful starting lines\n",
    "%matplotlib inline\n",
    "import numpy as np\n",
    "from numpy import linalg as LA\n",
    "import matplotlib.pyplot as plt\n",
    "from helpers import *\n",
    "%load_ext autoreload\n",
    "%autoreload 2"
   ]
  },
  {
   "cell_type": "code",
   "execution_count": 2,
   "metadata": {},
   "outputs": [],
   "source": [
    "data_path = 'train.csv'\n",
    "y_raw, x_raw, ids = load_csv_data(data_path, True)"
   ]
  },
  {
   "cell_type": "markdown",
   "metadata": {},
   "source": [
    "# Math functions"
   ]
  },
  {
   "cell_type": "code",
   "execution_count": 163,
   "metadata": {},
   "outputs": [],
   "source": [
    "f_mse = lambda y,x,w, reg: 1/(2*len(y))*LA.norm(y-x.dot(w))**2 + reg*LA.norm(w)**2\n",
    "gradf_mse = lambda y,x,w, reg: -1/len(y)*x.T.dot(y-x.dot(w)) + 2*reg*w\n",
    "sigmoid = lambda x: 1./(1.+np.exp(-x))\n",
    "f_logistic = lambda y,x,w, reg: -np.sum(np.log(sigmoid(y*np.dot(x,w))), axis=0)/len(y) + reg*LA.norm(w)**2\n",
    "gradf_logistic = lambda y,x,w, reg: (-x.T.dot((1. - sigmoid(y*(x.dot(w)))) * y))/len(y) + 2*reg*w"
   ]
  },
  {
   "cell_type": "markdown",
   "metadata": {},
   "source": [
    "# functions "
   ]
  },
  {
   "cell_type": "code",
   "execution_count": 164,
   "metadata": {},
   "outputs": [],
   "source": [
    "def clean(x):\n",
    "    '''replace -999 by mean of the rest'''\n",
    "    for i in range(len(x[0])):\n",
    "        tmp = x[:,i]\n",
    "        tmp[tmp == -999] = np.mean(tmp[tmp != -999])\n",
    "        x[:,i] = tmp\n",
    "    return x"
   ]
  },
  {
   "cell_type": "code",
   "execution_count": 165,
   "metadata": {},
   "outputs": [],
   "source": [
    "def std(x, mean, stdv):\n",
    "    for i in range(1, len(x[0])):\n",
    "        x[:,i] = (x[:,i] - mean[i])/stdv[i]\n",
    "    return x"
   ]
  },
  {
   "cell_type": "code",
   "execution_count": 166,
   "metadata": {},
   "outputs": [],
   "source": [
    "def addcolumn(x,f):\n",
    "    for i in range(len(f)):\n",
    "        for j in range(d):\n",
    "            x = np.concatenate((x, f[i](x[:,j]).reshape(-1,1)), axis = 1)\n",
    "    x = np.concatenate((np.ones((len(x[:,0]),1)), x), axis = 1)\n",
    "    return x"
   ]
  },
  {
   "cell_type": "code",
   "execution_count": 167,
   "metadata": {},
   "outputs": [],
   "source": [
    "def preprocess(y_in, x_in, mask, f):\n",
    "    '''apply mask --> clean --> std --> for each parameter x[:,i] and each f[j], add 1 column f[j](x[:,i]) \n",
    "    --> add column \"1\" to the left'''\n",
    "    x = clean(x_in[:, mask])\n",
    "    yx = np.concatenate((y_in, x), axis = 1)\n",
    "    np.random.shuffle(yx)\n",
    "    y = yx[:,0]\n",
    "    x = yx[:,1:]\n",
    "    x = addcolumn(x,f)\n",
    "    return y, x"
   ]
  },
  {
   "cell_type": "code",
   "execution_count": 168,
   "metadata": {},
   "outputs": [],
   "source": [
    "def split(y, x):\n",
    "    '''reshape x_in, y_in into K subsets of size (N//K) x d'''\n",
    "    return y.reshape(K, N//K, 1).copy(), x.reshape(K, N//K, D).copy()"
   ]
  },
  {
   "cell_type": "code",
   "execution_count": 169,
   "metadata": {},
   "outputs": [],
   "source": [
    "def get_train_test(y_in, x_in, k, train_more):\n",
    "    #define a mask to filter out the k-th element \n",
    "    no_k = np.ones(K, dtype = bool)\n",
    "    no_k[k] = False\n",
    "    \n",
    "    x = x_in[k].copy()\n",
    "    y = y_in[k].copy()\n",
    "    x_rest = x_in[no_k].reshape(N - N//K, D).copy()\n",
    "    y_rest = y_in[no_k].reshape(N-N//K, 1).copy()\n",
    "    m = np.mean(x, axis = 0)\n",
    "    m_rest = np.mean(x_rest, axis = 0)\n",
    "    s = np.std(x, axis = 0)\n",
    "    s_rest = np.std(x_rest, axis = 0)\n",
    "    #print(np.max(abs(m_rest-m)))\n",
    "    #print(np.max(abs(s_rest-s)))\n",
    "    if train_more == True:\n",
    "        mean = m_rest\n",
    "        stdv = s_rest\n",
    "        return y_rest, y, std(x_rest, mean, stdv), std(x, mean, stdv), mean, stdv\n",
    "    else:\n",
    "        mean = m\n",
    "        stdv = s\n",
    "        return y, y_rest, std(x, mean, stdv), std(x_rest, mean, stdv), mean, stdv"
   ]
  },
  {
   "cell_type": "code",
   "execution_count": 170,
   "metadata": {},
   "outputs": [],
   "source": [
    "def get_stsize(y, x, w, f, gradf, reg):\n",
    "    sts = 1/(0.0000005*np.max(np.linalg.eig(x.T.dot(x))[0]))\n",
    "    a = gradf(y, x, w, reg)\n",
    "    b = f(y, x, w, reg)\n",
    "    c = LA.norm(gradf(y, x, w, reg))**2\n",
    "    while f(y, x, w - sts*a, reg) > b - sts/2*c:\n",
    "        sts = sts * beta\n",
    "        #if sts < 1/(1*np.max(np.linalg.eig(x.T.dot(x))[0])): return sts\n",
    "        #print(sts)\n",
    "    #print('\\n')\n",
    "    return sts"
   ]
  },
  {
   "cell_type": "code",
   "execution_count": 226,
   "metadata": {},
   "outputs": [],
   "source": [
    "def GD(y, x, w0, st_size, f, gradf, reg):\n",
    "    w = np.zeros((n_iter+1,D,1))\n",
    "    L = np.zeros(n_iter+1)\n",
    "    w[0] = w0\n",
    "    L[0] = f(y,x,w[0], reg)\n",
    "    for i in range(n_iter):\n",
    "        st_size = get_stsize(y,x,w[i], f, gradf, reg)\n",
    "        w[i+1] = w[i] - st_size*gradf(y, x, w[i], reg)\n",
    "        L[i+1] = f(y,x,w[i], reg)\n",
    "    return w, L"
   ]
  },
  {
   "cell_type": "code",
   "execution_count": 172,
   "metadata": {},
   "outputs": [],
   "source": [
    "def SGD(y, x, w0, st_size, f, gradf, reg):\n",
    "    w = np.zeros((n_iter+1, D,1))\n",
    "    L = np.zeros(n_iter+1)\n",
    "    w[0] = w0\n",
    "    window = np.random.randint(0, len(y), size=1)\n",
    "    L[0] = f(y[window],x[window],w[0], reg)\n",
    "    #st_size = 1/(np.max(np.linalg.eig(x.T.dot(x))[0]))\n",
    "    for i in range(n_iter):\n",
    "        #define filter\n",
    "        window = np.random.randint(0, len(y), size=1)\n",
    "        #line search st size\n",
    "        #st_size = get_stsize(y[window],x[window],w[i], f, gradf) adaptive stepsize is not useful for SGD\n",
    "        w[i+1] = w[i] - st_size*gradf(y[window], x[window], w[i], reg)\n",
    "        L[i+1] = f(y[window],x[window],w[i], reg)\n",
    "        #if i%10 == 0: st_size /= 2 \n",
    "    return w, L"
   ]
  },
  {
   "cell_type": "code",
   "execution_count": 173,
   "metadata": {},
   "outputs": [],
   "source": [
    "def mse_normal(y,x,w0,st_size,f,gradf, reg):\n",
    "    w = np.ones((n_iter+1, D,1)) * LA.inv(x.T.dot(x)+reg*2*len(y)*np.eye(D)).dot(x.T.dot(y)) \n",
    "    L = np.ones(n_iter+1) * f(y, x, w[n_iter], reg)\n",
    "    return w,L"
   ]
  },
  {
   "cell_type": "code",
   "execution_count": 174,
   "metadata": {},
   "outputs": [],
   "source": [
    "def train(mod, alg, y, x, w0, reg):\n",
    "    f, gradf, st_size = model_train[mod]\n",
    "    return alg(y, x, w0, st_size, f, gradf, reg)\n"
   ]
  },
  {
   "cell_type": "markdown",
   "metadata": {},
   "source": [
    "# Initialization"
   ]
  },
  {
   "cell_type": "code",
   "execution_count": 197,
   "metadata": {},
   "outputs": [
    {
     "name": "stdout",
     "output_type": "stream",
     "text": [
      "d= 30\n"
     ]
    }
   ],
   "source": [
    "#set mask to filter out parameters that wont be used\n",
    "mask = np.ones(len(x_raw[0]), dtype=bool)\n",
    "mark = [] #np.array([0,4,5,6,9,11,12,15,18,20,23,24,25,26,27,28,29]) #############\n",
    "mask [mark] = False\n",
    "#set model functions (Ex: higher order regression,...)\n",
    "model_func = []#lambda x: x**2,\n",
    "              #lambda x: x**3]#,\n",
    "              #lambda x: x**5]\n",
    "\n",
    "\n",
    "d = np.sum(mask) #number of original parameter used\n",
    "N = len(y_raw)\n",
    "K = 5 #K>=2\n",
    "print('d=', d)"
   ]
  },
  {
   "cell_type": "code",
   "execution_count": 198,
   "metadata": {},
   "outputs": [
    {
     "name": "stdout",
     "output_type": "stream",
     "text": [
      "D= 31\n"
     ]
    }
   ],
   "source": [
    "x_raw = x_raw.reshape(N, 30)\n",
    "y_raw = y_raw.reshape(N, 1)\n",
    "y_full, x_full = preprocess(y_raw, x_raw, mask, model_func)\n",
    "D = len(x_full[0]) #number of total parameter\n",
    "print('D=', D)"
   ]
  },
  {
   "cell_type": "code",
   "execution_count": 199,
   "metadata": {},
   "outputs": [],
   "source": [
    "ys, xs = split(y_full.copy(), x_full.copy())"
   ]
  },
  {
   "cell_type": "code",
   "execution_count": 227,
   "metadata": {},
   "outputs": [],
   "source": [
    "n_iter = 500\n",
    "beta = 0.5 #parameter to reduce stepsize in backtracking line search st=st*beta\n",
    "train_more = True #choose to train by K-1 or 1 data set and test on the rest\n",
    "reg = 0 #10**(-4.3)\n",
    "w0 = np.zeros((D,1))\n",
    "#set training model (EX: logistic, mse,...)\n",
    "model_train = {'logistic':(f_logistic, gradf_logistic, 0.001), #0.05 for GD of subsample, 0.001 for SGD subsample\n",
    "               'mse':(f_mse, gradf_mse, 0.0002) # 0.01 for GD subsample, 0.0002 for SGD subsampple\n",
    "               } \n"
   ]
  },
  {
   "cell_type": "code",
   "execution_count": 228,
   "metadata": {},
   "outputs": [],
   "source": [
    "#test\n",
    "#y, yt, x, xt = get_train_test(ys, xs, 0, train_more)\n",
    "#print(np.std(x,axis =0))\n",
    "# stst = 1/(0.0000005*np.max(np.linalg.eig(x.T.dot(x))[0]))\n",
    "# print(stst)\n",
    "# a = f_logistic(y, x, w0 - stst*gradf_logistic(y, x, w0))\n",
    "# b = f_logistic(y, x, w0)\n",
    "# c = LA.norm(gradf_logistic(y, x, w0))**2\n",
    "# print(a>b-stst/2*c)\n"
   ]
  },
  {
   "cell_type": "markdown",
   "metadata": {},
   "source": [
    "# Main"
   ]
  },
  {
   "cell_type": "code",
   "execution_count": 229,
   "metadata": {},
   "outputs": [],
   "source": [
    "def main(K, reg, mod, alg, ys, xs, train_more, w0):\n",
    "    E = np.zeros((K, D))\n",
    "    STD = np.zeros((K, D))\n",
    "    wf = np.zeros((K, n_iter+1, D))\n",
    "    Lf = np.zeros((K, n_iter+1))\n",
    "    acc = np.zeros((K, n_iter+1))\n",
    "    for i in range(K):\n",
    "        #print('running'+ str(i) +'-th batch')\n",
    "        y, yt, x, xt, E[i], STD[i] = get_train_test(ys, xs, i, train_more)\n",
    "        tmp_wf, Lf[i] = train(mod, alg, y, x, w0, reg) ##################\n",
    "        wf[i] = tmp_wf.reshape(n_iter+1,D)\n",
    "        for j in range(n_iter+1):\n",
    "            acc[i,j] = np.sum(np.sign(xt.dot(wf[i,j]).reshape(-1,1)) == yt)/len(yt)*100\n",
    "    #print('done')\n",
    "    #plt.plot(Lf[0])\n",
    "    return wf, Lf, acc, E, STD"
   ]
  },
  {
   "cell_type": "code",
   "execution_count": 233,
   "metadata": {},
   "outputs": [],
   "source": [
    "wf, Lf, acc, E, STD = main(K, reg, 'logistic', GD, ys, xs, train_more, w0)\n",
    "#acc: else\n",
    "#acc1: mse GD 5k iter, fixed stsize\n",
    "#acc2: mse SGD 5k iter\n",
    "#acc3: logistic GD 5k iter, fixed stsize\n",
    "#acc4: logistic SGD 5k iter\n",
    "#acc5: mse, SGD 50k iter \n",
    "#acc6: logistic, SGD 50k iter\n",
    "#acc7: mse, GD 500 iter, adapt stsize\n",
    "#acc8: logistic, GD 500 iter, adapt stsize\n",
    "#acc9: logistic, GD 500 iter, adapt stsize, "
   ]
  },
  {
   "cell_type": "code",
   "execution_count": 234,
   "metadata": {},
   "outputs": [
    {
     "name": "stdout",
     "output_type": "stream",
     "text": [
      "75.22\n",
      "1.31\n"
     ]
    },
    {
     "data": {
      "image/png": "[encoded data removed]",
      "text/plain": [
       "<Figure size 432x288 with 1 Axes>"
      ]
     },
     "metadata": {
      "needs_background": "light"
     },
     "output_type": "display_data"
    }
   ],
   "source": [
    "acc8 = acc.copy()\n",
    "plt.plot(np.mean(acc[:,1:], axis = 0))\n",
    "print(round(np.mean(acc[:, n_iter]), 2))\n",
    "print(round(np.std(acc[:, n_iter]), 2))"
   ]
  },
  {
   "cell_type": "code",
   "execution_count": 41,
   "metadata": {},
   "outputs": [],
   "source": [
    "# loop through many reg para values\n",
    "reg_arr = np.linspace(-9, -1, 81, endpoint=True)\n",
    "accf = np.zeros(len(reg_arr))\n",
    "for ireg in range(len(reg_arr)):\n",
    "    wf, Lf, acc = main(K, 10**reg_arr[ireg], 'mse', SGD, ys, xs, train_more, w0)\n",
    "    accf[ireg] = (np.max(np.mean(acc[:, n_iter])))\n",
    "    "
   ]
  },
  {
   "cell_type": "code",
   "execution_count": 50,
   "metadata": {},
   "outputs": [
    {
     "data": {
      "image/png": "[encoded data removed]",
      "text/plain": [
       "<Figure size 432x288 with 1 Axes>"
      ]
     },
     "metadata": {
      "needs_background": "light"
     },
     "output_type": "display_data"
    }
   ],
   "source": [
    "plt.plot(reg_arr, accf)\n",
    "accf1 = accf\n",
    "# reg_arr = np.linspace(-9, -1, 81, endpoint=True)\n",
    "# accf1 mse, mse_normal, 500 iter\n",
    "# accf2 mse, GD, 500 iter\n",
    "# accf3 mse, SGD, 5000 iter \n",
    "# accf4 logistic, GD 500 iter\n",
    "# accf5 logistic, SGD 5000 iter\n",
    "# plot(reg_arr, accf1-5) and put legends"
   ]
  },
  {
   "cell_type": "code",
   "execution_count": 67,
   "metadata": {},
   "outputs": [
    {
     "name": "stdout",
     "output_type": "stream",
     "text": [
      "-4.4\n",
      "[-9.  -8.9 -8.8 -8.7 -8.6 -8.5 -8.4 -8.3 -8.2 -8.1 -8.  -7.9 -7.8 -7.7\n",
      " -7.6 -7.5 -7.4 -7.3 -7.2 -7.1 -7.  -6.9 -6.8 -6.7 -6.6 -6.5 -6.4 -6.3\n",
      " -6.2 -6.1 -6.  -5.9 -5.8 -5.7 -5.6 -5.5 -5.4 -5.3 -5.2 -5.1 -5.  -4.9\n",
      " -4.8 -4.7 -4.6 -4.5 -4.4 -4.3 -4.2 -4.1 -4.  -3.9 -3.8 -3.7 -3.6 -3.5\n",
      " -3.4 -3.3 -3.2 -3.1 -3.  -2.9 -2.8 -2.7 -2.6 -2.5 -2.4 -2.3 -2.2 -2.1\n",
      " -2.  -1.9 -1.8 -1.7 -1.6 -1.5 -1.4 -1.3 -1.2 -1.1 -1. ]\n"
     ]
    }
   ],
   "source": [
    "print(round(reg_arr[np.unravel_index(np.argmax(accf, axis=None), accf.shape)], 2))\n",
    "print(reg_arr)"
   ]
  },
  {
   "cell_type": "markdown",
   "metadata": {},
   "source": [
    "# output"
   ]
  },
  {
   "cell_type": "code",
   "execution_count": 225,
   "metadata": {},
   "outputs": [
    {
     "name": "stdout",
     "output_type": "stream",
     "text": [
      "74.97999999999999\n",
      "1.2639620247459977\n",
      "75.26\n",
      "1.2815615474880644\n"
     ]
    },
    {
     "data": {
      "image/png": "[encoded data removed]",
      "text/plain": [
       "<Figure size 432x288 with 1 Axes>"
      ]
     },
     "metadata": {
      "needs_background": "light"
     },
     "output_type": "display_data"
    }
   ],
   "source": [
    "xplot = np.arange(0, n_iter, 1)\n",
    "y5plot = np.mean(acc5[:,1:], axis = 0)\n",
    "y6plot = np.mean(acc6[:,1:], axis = 0)\n",
    "plt.plot(xplot, y5plot, xplot, y6plot)\n",
    "plt.ylabel('Accuracy (%)', fontsize=18)\n",
    "plt.xlabel('Iteration', fontsize=18)\n",
    "plt.legend(('mse, SGD', 'logistic, SGD'), loc = 'lower right')\n",
    "plt.title('Convergence of SGD with more iterations')\n",
    "print(np.mean(acc5[:, n_iter]))\n",
    "print(np.std(acc5[:, n_iter]))\n",
    "print(np.mean(acc6[:, n_iter]))\n",
    "print(np.std(acc6[:, n_iter]))"
   ]
  },
  {
   "cell_type": "code",
   "execution_count": 235,
   "metadata": {},
   "outputs": [
    {
     "name": "stdout",
     "output_type": "stream",
     "text": [
      "74.97999999999999\n",
      "1.3257450735341225\n",
      "75.22\n",
      "1.310572394032471\n"
     ]
    },
    {
     "data": {
      "image/png": "[encoded data removed]",
      "text/plain": [
       "<Figure size 432x288 with 1 Axes>"
      ]
     },
     "metadata": {
      "needs_background": "light"
     },
     "output_type": "display_data"
    }
   ],
   "source": [
    "xplot = np.arange(0, n_iter, 1)\n",
    "y7plot = np.mean(acc7[:,1:], axis = 0)\n",
    "y8plot = np.mean(acc8[:,1:], axis = 0)\n",
    "plt.plot(xplot, y7plot, xplot, y8plot)\n",
    "plt.ylabel('Accuracy (%)', fontsize=18)\n",
    "plt.xlabel('Iteration', fontsize=18)\n",
    "plt.legend(('mse, GD', 'logistic, GD'), loc = 'lower right')\n",
    "plt.title('Convergence of GD with adaptive step size')\n",
    "print(np.mean(acc7[:, n_iter]))\n",
    "print(np.std(acc7[:, n_iter]))\n",
    "print(np.mean(acc8[:, n_iter]))\n",
    "print(np.std(acc8[:, n_iter]))"
   ]
  },
  {
   "cell_type": "code",
   "execution_count": 217,
   "metadata": {},
   "outputs": [
    {
     "name": "stdout",
     "output_type": "stream",
     "text": [
      "75.02\n",
      "1.3013838787997962\n",
      "73.82000000000001\n",
      "1.0851727973000431\n",
      "75.18\n",
      "1.399142594591416\n",
      "73.72\n",
      "1.524991803256661\n"
     ]
    },
    {
     "data": {
      "image/png": "[encoded data removed]",
      "text/plain": [
       "<Figure size 432x288 with 1 Axes>"
      ]
     },
     "metadata": {
      "needs_background": "light"
     },
     "output_type": "display_data"
    }
   ],
   "source": [
    "xplot = np.arange(0, n_iter, 1)\n",
    "y1plot = np.mean(acc1[:,1:], axis = 0)\n",
    "y2plot = np.mean(acc2[:,1:], axis = 0)\n",
    "y3plot = np.mean(acc3[:,1:], axis = 0)\n",
    "y4plot = np.mean(acc4[:,1:], axis = 0)\n",
    "lines = plt.plot(xplot, y1plot, xplot, y2plot, xplot, y3plot, xplot, y4plot)\n",
    "plt.ylabel('Accuracy (%)', fontsize=18)\n",
    "plt.xlabel('Iteration', fontsize=18)\n",
    "plt.legend(('mse, GD', 'mse, SGD', 'logistic, GD', 'logistic, SGD'), loc = 'lower right')\n",
    "plt.title('Convergence of different methods')\n",
    "\n",
    "print(np.mean(acc1[:, n_iter]))\n",
    "print(np.std(acc1[:, n_iter]))\n",
    "\n",
    "print(np.mean(acc2[:, n_iter]))\n",
    "print(np.std(acc2[:, n_iter]))\n",
    "\n",
    "print(np.mean(acc3[:, n_iter]))\n",
    "print(np.std(acc3[:, n_iter]))\n",
    "\n",
    "print(np.mean(acc4[:, n_iter]))\n",
    "print(np.std(acc4[:, n_iter]))"
   ]
  },
  {
   "cell_type": "markdown",
   "metadata": {},
   "source": [
    "# run with test.csv"
   ]
  },
  {
   "cell_type": "code",
   "execution_count": 193,
   "metadata": {},
   "outputs": [
    {
     "name": "stdout",
     "output_type": "stream",
     "text": [
      "(2, 391)\n",
      "82.39999999999999\n",
      "[-1.79725797e+00  2.32327027e+00 -6.41604998e-01  2.92468407e-01\n",
      "  6.99317917e-01 -2.97573753e-01 -7.57159613e-01 -1.48771322e-01\n",
      "  2.41103889e+00 -4.38342333e-01  4.30811779e-01 -1.28707983e+00\n",
      "  1.64277593e-02  1.65654472e-02  1.18992077e+00 -8.34960123e-03\n",
      "  2.33831852e-01  1.29148977e+00  9.77316485e-02  3.30727740e-01\n",
      " -2.85601702e-01 -8.18527507e-02  4.71777295e-01 -1.22569555e-01\n",
      "  7.64962882e-01 -1.25285238e-01  4.35533677e-02  2.42846280e-01\n",
      " -3.04648077e-02 -8.24329184e-02 -1.10098270e-02 -3.14872377e+00\n",
      " -6.10593765e-01 -2.94230915e+00 -1.36369290e-01  4.08332190e-01\n",
      "  4.12595175e-01 -1.08631942e-02 -1.96897639e-01  1.26056021e+00\n",
      " -6.70105112e-01  5.00314744e-01  1.76397456e-01  2.10838117e-01\n",
      " -1.18890137e+00 -1.51185361e-01 -3.12131495e-02  2.02227261e-01\n",
      " -2.17338416e-01  4.74897772e-02  4.71039338e-01  1.78688183e-03\n",
      " -1.07555092e+00  3.57894628e-02 -7.53019986e-01  2.79567790e-01\n",
      " -5.86609855e-02  9.14851470e-02  2.97010975e-01 -3.68801781e-02\n",
      " -6.64326269e-01 -2.18061568e+00  8.22249326e-01 -1.62043660e+00\n",
      " -1.69641742e-01  2.01683548e-01 -3.51991833e-02 -1.70081687e-02\n",
      " -1.25317157e+00 -8.01644046e-01  5.47742068e-01  3.33378064e-01\n",
      "  1.14961680e-01  7.03531230e-02  5.48152012e-01  5.91054055e-02\n",
      " -1.87637589e-01 -7.70880443e-01 -2.24103709e-02 -2.69203182e-01\n",
      " -5.72276693e-02  2.98379165e-02  1.71807554e-01 -3.21549259e-01\n",
      "  5.56381342e-01  3.38644929e-02 -2.19128047e-02 -1.61069577e-01\n",
      "  4.55032841e-03  8.88318041e-02  3.51464888e-01]\n"
     ]
    }
   ],
   "source": [
    "accf = np.mean(acc[:,1:], axis = 0)\n",
    "i_f = np.unravel_index(np.argmax(acc, axis=None), acc.shape)\n",
    "print(i_f)\n",
    "print(acc[i_f])\n",
    "wff = wf[i_f]\n",
    "print(wff)"
   ]
  },
  {
   "cell_type": "code",
   "execution_count": 155,
   "metadata": {},
   "outputs": [],
   "source": [
    "y_test_raw, x_test_raw, ids_test = load_csv_data('test.csv')"
   ]
  },
  {
   "cell_type": "code",
   "execution_count": 194,
   "metadata": {},
   "outputs": [
    {
     "name": "stdout",
     "output_type": "stream",
     "text": [
      "568238\n",
      "(568238, 30)\n"
     ]
    }
   ],
   "source": [
    "n_test = len(y_test_raw)\n",
    "print(n_test)\n",
    "x_test = x_test_raw.reshape(n_test, len(x_test_raw[0]))\n",
    "y_test = y_test_raw.reshape(n_test, 1)\n",
    "print(x_test.shape)\n",
    "y_tt, x_tt = preprocess(y_test.copy(), x_test.copy(), mask, model_func)\n",
    "x_ttt = std(x_tt, E[i_f[0]], STD[i_f[0]])"
   ]
  },
  {
   "cell_type": "code",
   "execution_count": 195,
   "metadata": {},
   "outputs": [
    {
     "name": "stdout",
     "output_type": "stream",
     "text": [
      "[-1.79725797e+00  2.32327027e+00 -6.41604998e-01  2.92468407e-01\n",
      "  6.99317917e-01 -2.97573753e-01 -7.57159613e-01 -1.48771322e-01\n",
      "  2.41103889e+00 -4.38342333e-01  4.30811779e-01 -1.28707983e+00\n",
      "  1.64277593e-02  1.65654472e-02  1.18992077e+00 -8.34960123e-03\n",
      "  2.33831852e-01  1.29148977e+00  9.77316485e-02  3.30727740e-01\n",
      " -2.85601702e-01 -8.18527507e-02  4.71777295e-01 -1.22569555e-01\n",
      "  7.64962882e-01 -1.25285238e-01  4.35533677e-02  2.42846280e-01\n",
      " -3.04648077e-02 -8.24329184e-02 -1.10098270e-02 -3.14872377e+00\n",
      " -6.10593765e-01 -2.94230915e+00 -1.36369290e-01  4.08332190e-01\n",
      "  4.12595175e-01 -1.08631942e-02 -1.96897639e-01  1.26056021e+00\n",
      " -6.70105112e-01  5.00314744e-01  1.76397456e-01  2.10838117e-01\n",
      " -1.18890137e+00 -1.51185361e-01 -3.12131495e-02  2.02227261e-01\n",
      " -2.17338416e-01  4.74897772e-02  4.71039338e-01  1.78688183e-03\n",
      " -1.07555092e+00  3.57894628e-02 -7.53019986e-01  2.79567790e-01\n",
      " -5.86609855e-02  9.14851470e-02  2.97010975e-01 -3.68801781e-02\n",
      " -6.64326269e-01 -2.18061568e+00  8.22249326e-01 -1.62043660e+00\n",
      " -1.69641742e-01  2.01683548e-01 -3.51991833e-02 -1.70081687e-02\n",
      " -1.25317157e+00 -8.01644046e-01  5.47742068e-01  3.33378064e-01\n",
      "  1.14961680e-01  7.03531230e-02  5.48152012e-01  5.91054055e-02\n",
      " -1.87637589e-01 -7.70880443e-01 -2.24103709e-02 -2.69203182e-01\n",
      " -5.72276693e-02  2.98379165e-02  1.71807554e-01 -3.21549259e-01\n",
      "  5.56381342e-01  3.38644929e-02 -2.19128047e-02 -1.61069577e-01\n",
      "  4.55032841e-03  8.88318041e-02  3.51464888e-01]\n",
      "30.362277777973315\n"
     ]
    }
   ],
   "source": [
    "print(wff)\n",
    "print(np.sum(np.sign(x_tt.dot(wff)) == 1)*100/n_test)"
   ]
  },
  {
   "cell_type": "code",
   "execution_count": 831,
   "metadata": {},
   "outputs": [],
   "source": [
    "create_csv_submission(ids_test, predict_labels(wff,x_tt), 'how_bad_can_it_get.csv')"
   ]
  },
  {
   "cell_type": "code",
   "execution_count": null,
   "metadata": {},
   "outputs": [],
   "source": []
  }
 ],
 "metadata": {
  "kernelspec": {
   "display_name": "Python 3",
   "language": "python",
   "name": "python3"
  },
  "language_info": {
   "codemirror_mode": {
    "name": "ipython",
    "version": 3
   },
   "file_extension": ".py",
   "mimetype": "text/x-python",
   "name": "python",
   "nbconvert_exporter": "python",
   "pygments_lexer": "ipython3",
   "version": "3.7.0"
  }
 },
 "nbformat": 4,
 "nbformat_minor": 2
}
