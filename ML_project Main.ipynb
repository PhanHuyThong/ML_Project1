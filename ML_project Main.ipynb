{
 "cells": [
  {
   "cell_type": "code",
   "execution_count": 1,
   "metadata": {},
   "outputs": [],
   "source": [
    "# Useful starting lines\n",
    "%matplotlib inline\n",
    "import numpy as np\n",
    "from numpy import linalg as LA\n",
    "import matplotlib.pyplot as plt\n",
    "from helpers import *\n",
    "%load_ext autoreload\n",
    "%autoreload 2"
   ]
  },
  {
   "cell_type": "markdown",
   "metadata": {},
   "source": [
    "# Data input"
   ]
  },
  {
   "cell_type": "code",
   "execution_count": 53,
   "metadata": {},
   "outputs": [],
   "source": [
    "data_path = 'train.csv'\n",
    "y, tx, ids = load_csv_data(data_path)\n",
    "y_t, tx_t, ids_t = load_csv_data(data_path)"
   ]
  },
  {
   "cell_type": "markdown",
   "metadata": {},
   "source": [
    "# Clean data and initialization"
   ]
  },
  {
   "cell_type": "code",
   "execution_count": 62,
   "metadata": {},
   "outputs": [
    {
     "name": "stdout",
     "output_type": "stream",
     "text": [
      "[0. 1. 1. 1. 1. 1. 1. 1. 1. 1. 1. 1. 1. 1. 1. 1. 1. 1. 1. 1. 1. 1. 1. 1.\n",
      " 1. 1. 1. 1. 1. 1. 1.]\n",
      "(250000, 31)\n",
      "0.625\n",
      "250000\n"
     ]
    }
   ],
   "source": [
    "n_para = len(tx[0]) #number of parameters/features\n",
    "n_data = len(ids)   #number of data/measurements\n",
    "n_t_data = len(ids_t)\n",
    "w0 = np.zeros(n_para+1)\n",
    "\n",
    "#data cleaning\n",
    "\n",
    "def clean(x):\n",
    "    for ci in range(len(x[0])):\n",
    "        tmp = x[:,ci]\n",
    "        tmp[tmp == -999] = np.mean(tmp[tmp != -999])\n",
    "        tmp = tmp - np.mean(tmp)\n",
    "        tmp = tmp/np.std(tmp)\n",
    "        x[:,ci] = tmp\n",
    "    x = np.concatenate((np.ones((len(tmp),1)), x), axis=1)\n",
    "    return x\n",
    "x = clean(tx.copy())\n",
    "x_t = clean(tx_t.copy())\n",
    "\n",
    "print(np.std(x,axis=0))\n",
    "print(x.shape)\n",
    "st_size = 1/(0.00005*np.max(np.linalg.eig(x.T.dot(x))[0]))\n",
    "n_iter = 5000\n",
    "st_size = 0.625\n",
    "print(st_size)\n",
    "print(n_data)"
   ]
  },
  {
   "cell_type": "markdown",
   "metadata": {},
   "source": [
    "# Logistic model"
   ]
  },
  {
   "cell_type": "code",
   "execution_count": 63,
   "metadata": {},
   "outputs": [],
   "source": [
    "#basic functions\n",
    "sigmoid = lambda x: 1./(1.+np.exp(-x))\n",
    "f_logistic = lambda y,x,w,window=np.arange(n_data): -np.sum(np.log(sigmoid(y[window]*np.dot(x[window],w))), axis=0)/len(window)\n",
    "gradf_logistic = lambda y,x,w,window=np.arange(n_data): (-x[window].T.dot((1. - sigmoid(y[window]*(x[window].dot(w)))) * y[window]))/len(window)\n",
    "#f_logistic = lambda y,x,w,window=np.arange(n_data): -np.sum(np.log(sigmoid(y[i]*np.dot(x[i],w))) for i in window)\n",
    "#gradf_logistic = lambda y,x,w,window=np.arange(n_data): np.sum([(1. - sigmoid(y[i]*(x[i].dot(w)))) * y[i] *x[i] for i in window], axis=0)/len(window)\n",
    "\n",
    "#testing\n",
    "#print(f_logistic(y,x,w0))\n",
    "#print(gradf_logistic(y,x,w0))"
   ]
  },
  {
   "cell_type": "markdown",
   "metadata": {},
   "source": [
    "# GD"
   ]
  },
  {
   "cell_type": "code",
   "execution_count": 76,
   "metadata": {},
   "outputs": [],
   "source": [
    "def GD(w0, st_size, f, gradf, n):\n",
    "    ws = np.zeros((n+1,n_para+1))\n",
    "    L = np.zeros((n+1,1))\n",
    "    ws[0] = w0\n",
    "    L[0] = f(y,x,ws[0])\n",
    "    for i in range(n):\n",
    "        ws[i+1] = ws[i] - st_size*gradf(y, x, ws[i])\n",
    "        L[i+1] = f(y,x,ws[i])\n",
    "    return ws, L\n",
    "    \n",
    "ws, L= GD(w0, st_size, f_logistic, gradf_logistic,n_iter)"
   ]
  },
  {
   "cell_type": "code",
   "execution_count": 25,
   "metadata": {},
   "outputs": [],
   "source": [
    "#print((L[n]-L[n-1])/L[n])\n",
    "# print(np.max(abs(ws[n_iter]-ws[n_iter-1])))\n",
    "# print(L[n_iter])\n",
    "# print(ws[n_iter])"
   ]
  },
  {
   "cell_type": "markdown",
   "metadata": {},
   "source": [
    "# SGD"
   ]
  },
  {
   "cell_type": "code",
   "execution_count": 72,
   "metadata": {},
   "outputs": [],
   "source": [
    "n_sample = 1\n",
    "n_SGD = 100\n",
    "def SGD(w0, st_size, f, gradf, n):\n",
    "    ws = np.zeros((n+1, n_para+1))\n",
    "    L = np.zeros((n+1, 1))\n",
    "    ws[0] = w0\n",
    "    L[0] = f(y,x,ws[0], np.random.randint(0, n_data, size=n_sample))\n",
    "    for i in range(n):\n",
    "        #define filter\n",
    "        window = np.random.randint(0, n_data, size=n_sample)\n",
    "        ws[i+1] = ws[i] - st_size*gradf(y, x, ws[i], window)\n",
    "        L[i+1] = f(y,x,ws[i+1], window)\n",
    "    return ws, L\n",
    "\n",
    "ws = np.zeros((n_iter+1, n_para+1))\n",
    "L = np.zeros((n_iter+1, 1))################\n",
    "#L = np.ones((n_iter+1, 1))*99      ##  \n",
    "for i in range(n_SGD):\n",
    "    (tmp_ws, tmp_L) = SGD(w0, st_size, f_logistic, gradf_logistic,n_iter)\n",
    "    ws = ws + tmp_ws###########\n",
    "    L = L+tmp_L##########\n",
    "    #if L[n_iter]>tmp_L[n_iter]:    ##\n",
    "    #    ws, L = tmp_ws, tmp_L      ##\n",
    "ws, L = ws/n_SGD, L/ n_SGD############"
   ]
  },
  {
   "cell_type": "markdown",
   "metadata": {},
   "source": [
    "# Plotting L vs iteration"
   ]
  },
  {
   "cell_type": "code",
   "execution_count": 77,
   "metadata": {},
   "outputs": [],
   "source": [
    "# plt.plot(L)#(np.arange(n_iter+1)[::100], L[::100])\n",
    "# plt.ylabel('L', fontsize=15)\n",
    "# plt.xlabel('Iteration', fontsize=15)\n",
    "\n",
    "#find the best fit ws[i_f] in the [l,r] range (especially for SGD which fluctuates)\n",
    "l = 0   \n",
    "#l = (n_iter+1)*9//10 #toggle this if n_iter too large\n",
    "r = n_iter+1\n",
    "acc = np.zeros(r-l)\n",
    "for i in range(l,r):\n",
    "    acc[i-l] = np.sum(predict_labels(ws[i],x_t)==y_t)/n_t_data*100\n",
    "    "
   ]
  },
  {
   "cell_type": "code",
   "execution_count": 78,
   "metadata": {},
   "outputs": [
    {
     "name": "stdout",
     "output_type": "stream",
     "text": [
      "75.0572\n"
     ]
    },
    {
     "data": {
      "image/png": "[encoded data removed]",
      "text/plain": [
       "<Figure size 432x288 with 1 Axes>"
      ]
     },
     "metadata": {
      "needs_background": "light"
     },
     "output_type": "display_data"
    }
   ],
   "source": [
    "#plot accuracy convergence------------------------------------\n",
    "plt.plot(acc)\n",
    "plt.ylabel('%accuracy', fontsize=18)\n",
    "plt.xlabel('Iteration + '+str(l), fontsize=18)\n",
    "\n",
    "# check with training data-----------------------------------\n",
    "i_f = np.max(np.where(acc==np.max(acc)))\n",
    "wf = ws[i_f+l] #final parameter\n",
    "yf = np.sign(x_t.dot(wf))\n",
    "print(np.sum(yf==y_t)/n_t_data*100)\n",
    "#print(i_f)"
   ]
  },
  {
   "cell_type": "markdown",
   "metadata": {},
   "source": [
    "# load and test test data"
   ]
  },
  {
   "cell_type": "code",
   "execution_count": 47,
   "metadata": {},
   "outputs": [],
   "source": [
    "y_test, tx_test, ids_test = load_csv_data('test.csv')"
   ]
  },
  {
   "cell_type": "code",
   "execution_count": 48,
   "metadata": {},
   "outputs": [],
   "source": [
    "x_test = clean(tx_test.copy())"
   ]
  },
  {
   "cell_type": "code",
   "execution_count": 49,
   "metadata": {},
   "outputs": [
    {
     "name": "stdout",
     "output_type": "stream",
     "text": [
      "28.56443954821747\n"
     ]
    }
   ],
   "source": [
    "print(np.sum(predict_labels(wf,x_test)==1)*100/len(ids_test))"
   ]
  },
  {
   "cell_type": "code",
   "execution_count": 50,
   "metadata": {},
   "outputs": [
    {
     "name": "stdout",
     "output_type": "stream",
     "text": [
      "568238\n"
     ]
    }
   ],
   "source": [
    "print(len(ids_test))"
   ]
  },
  {
   "cell_type": "markdown",
   "metadata": {},
   "source": [
    "# output"
   ]
  },
  {
   "cell_type": "code",
   "execution_count": 51,
   "metadata": {},
   "outputs": [],
   "source": [
    "create_csv_submission(ids_test, predict_labels(wf,x_test), 'how_bad_can_it_get_2.csv')"
   ]
  },
  {
   "cell_type": "code",
   "execution_count": null,
   "metadata": {},
   "outputs": [],
   "source": []
  }
 ],
 "metadata": {
  "kernelspec": {
   "display_name": "Python 3",
   "language": "python",
   "name": "python3"
  },
  "language_info": {
   "codemirror_mode": {
    "name": "ipython",
    "version": 3
   },
   "file_extension": ".py",
   "mimetype": "text/x-python",
   "name": "python",
   "nbconvert_exporter": "python",
   "pygments_lexer": "ipython3",
   "version": "3.7.0"
  }
 },
 "nbformat": 4,
 "nbformat_minor": 2
}
